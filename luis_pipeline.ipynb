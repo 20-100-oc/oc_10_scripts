{
 "cells": [
  {
   "cell_type": "code",
   "execution_count": 17,
   "metadata": {},
   "outputs": [],
   "source": [
    "import p10_functions as pf\n",
    "\n",
    "import os\n",
    "import time\n",
    "import datetime\n",
    "\n",
    "import pandas as pd\n",
    "\n",
    "from azure.cognitiveservices.language.luis.authoring import LUISAuthoringClient\n",
    "from msrest.authentication import CognitiveServicesCredentials\n",
    "from azure.cognitiveservices.language.luis.runtime import LUISRuntimeClient"
   ]
  },
  {
   "cell_type": "code",
   "execution_count": 18,
   "metadata": {},
   "outputs": [],
   "source": [
    "root_dir = 'D:/OpenClassrooms/projet_10/'\n",
    "data_file = os.path.join(root_dir, 'data', 'frames', 'frames.json')\n",
    "\n",
    "region_authoring = 'westeurope'\n",
    "region_url = f'https://{region_authoring}.api.cognitive.microsoft.com'\n",
    "\n",
    "sleep_time = 0.25"
   ]
  },
  {
   "cell_type": "code",
   "execution_count": 19,
   "metadata": {},
   "outputs": [],
   "source": [
    "# auth-2 & pred-2\n",
    "\n",
    "AUTHORING_ENDPOINT = 'https://oc-10-luis-author-2.cognitiveservices.azure.com/'\n",
    "AUTHORING_KEY = '7f00381d23d34a9eabe107b03e459cdc'\n",
    "\n",
    "PREDICTION_ENDPOINT ='https://oc-10-luis-pred-2.cognitiveservices.azure.com/'\n",
    "PREDICTION_KEY = '03773c8be49140af87a85494568f93fc'\n",
    "\n",
    "# existing apps info\n",
    "existing_apps = [\n",
    "    {\n",
    "        'app_name': 'luis_2023-02-24_18:26:21', \n",
    "        'app_id': 'e7bd1685-fe52-42a9-860a-970bbd6c9eee', \n",
    "    }, \n",
    "    {\n",
    "        'app_name': 'luis_2023-03-03_11:07:58', \n",
    "        'app_id': '0abd15c6-f743-4ca3-9775-1adf328dfc24', \n",
    "    }, \n",
    "    {\n",
    "        'app_name': 'luis_2023-03-03_18:15:50', \n",
    "        'app_id': '26c13481-467f-49d7-8a55-e72a7f51fdcd', \n",
    "    }, \n",
    "    {\n",
    "        'app_name': 'luis_2023-03-03_18:27:05', \n",
    "        'app_id': 'c78c19a0-1730-441c-9d70-b93e292192b1', \n",
    "    }, \n",
    "]"
   ]
  },
  {
   "cell_type": "code",
   "execution_count": 20,
   "metadata": {},
   "outputs": [],
   "source": [
    "# client credentials\n",
    "\n",
    "auth_client = LUISAuthoringClient(\n",
    "    AUTHORING_ENDPOINT, \n",
    "    CognitiveServicesCredentials(AUTHORING_KEY)\n",
    ")"
   ]
  },
  {
   "cell_type": "code",
   "execution_count": 21,
   "metadata": {},
   "outputs": [],
   "source": [
    "create_new_luis = True\n",
    "\n",
    "# if use old app: choose an app\n",
    "app_idx = 3"
   ]
  },
  {
   "cell_type": "code",
   "execution_count": 22,
   "metadata": {},
   "outputs": [
    {
     "name": "stdout",
     "output_type": "stream",
     "text": [
      "app_name: luis_2023-03-03_18:27:05\n",
      "app_id: c78c19a0-1730-441c-9d70-b93e292192b1\n",
      "version_id: 0.1\n"
     ]
    }
   ],
   "source": [
    "if create_new_luis:\n",
    "    # Create new LUIS\n",
    "    version_id = '0.1'\n",
    "    app_name = 'luis_' + datetime.datetime.now().strftime('%Y-%m-%d_%H:%M:%S')\n",
    "\n",
    "    app_id = auth_client.apps.add({\n",
    "        'name': app_name,\n",
    "        'initial_version_id': version_id,\n",
    "        'culture': 'en-us',\n",
    "    })\n",
    "\n",
    "else:\n",
    "    # get existing app_name, app_id, version_id\n",
    "    existing_app = existing_apps[app_idx]\n",
    "    app_name = existing_app['app_name']\n",
    "    app_id = existing_app['app_id']\n",
    "    version_id = '0.1'\n",
    "    \n",
    "\n",
    "print('app_name:', app_name)\n",
    "print('app_id:', app_id)\n",
    "print('version_id:', version_id)\n",
    "\n",
    "time.sleep(sleep_time)"
   ]
  },
  {
   "attachments": {},
   "cell_type": "markdown",
   "metadata": {},
   "source": [
    "## Add information into the model"
   ]
  },
  {
   "attachments": {},
   "cell_type": "markdown",
   "metadata": {},
   "source": [
    "### Entity"
   ]
  },
  {
   "cell_type": "code",
   "execution_count": 23,
   "metadata": {},
   "outputs": [
    {
     "name": "stdout",
     "output_type": "stream",
     "text": [
      "\"or_city\" created with id eae8be4f-7b2e-4336-a22f-82ea6c334f36.\n",
      "\"dst_city\" created with id 7173f80e-a945-4be5-9076-85da158ebd07.\n",
      "\"str_date\" created with id 415549ec-84f6-4eb9-ad07-84c8f51f7c92.\n",
      "\"end_date\" created with id 4ee0f0d4-685e-41f0-aac7-c53f0c37d88e.\n",
      "\"budget\" created with id e84a2520-34b0-44e9-bda0-e3fe5b09ac51.\n"
     ]
    }
   ],
   "source": [
    "entities = [\n",
    "    'or_city',\n",
    "    'dst_city',\n",
    "    'str_date',\n",
    "    'end_date',\n",
    "    'budget'\n",
    "]\n",
    "\n",
    "for entity in entities:\n",
    "    entity_id = auth_client.model.add_entity(app_id, \n",
    "        version_id, \n",
    "        name=entity \n",
    "    )\n",
    "    print(f'\"{entity}\" created with id {entity_id}.')\n",
    "\n",
    "    time.sleep(sleep_time)"
   ]
  },
  {
   "attachments": {},
   "cell_type": "markdown",
   "metadata": {},
   "source": [
    "### Intent"
   ]
  },
  {
   "cell_type": "code",
   "execution_count": 24,
   "metadata": {},
   "outputs": [
    {
     "name": "stdout",
     "output_type": "stream",
     "text": [
      "BookFlight intent created with id 875ef2aa-5b1d-408b-ae76-7ca8158f1523\n"
     ]
    }
   ],
   "source": [
    "intent_name = \"BookFlight\"\n",
    "intent_id = auth_client.model.add_intent(\n",
    "    app_id,\n",
    "    version_id,\n",
    "    intent_name\n",
    ")\n",
    "\n",
    "print(f'{intent_name} intent created with id {intent_id}')\n",
    "\n",
    "time.sleep(sleep_time)"
   ]
  },
  {
   "attachments": {},
   "cell_type": "markdown",
   "metadata": {},
   "source": [
    "### Utterance (train and test)"
   ]
  },
  {
   "cell_type": "code",
   "execution_count": 25,
   "metadata": {},
   "outputs": [
    {
     "name": "stdout",
     "output_type": "stream",
     "text": [
      "(1369, 5)\n",
      "4135\n"
     ]
    }
   ],
   "source": [
    "# utterance exemple\n",
    "entities = [\n",
    "    'or_city',\n",
    "    'dst_city',\n",
    "    'str_date',\n",
    "    'end_date',\n",
    "    'budget'\n",
    "]\n",
    "\n",
    "data = pd.read_json(data_file)\n",
    "print(data.shape)\n",
    "\n",
    "luis_data = pf.convert_data(data, entities)\n",
    "print(len(luis_data))"
   ]
  },
  {
   "cell_type": "code",
   "execution_count": 26,
   "metadata": {},
   "outputs": [
    {
     "name": "stdout",
     "output_type": "stream",
     "text": [
      "3635\n",
      "500\n"
     ]
    }
   ],
   "source": [
    "val_set_size = 500\n",
    "\n",
    "train_set, val_set = pf.create_train_test_sets(val_set_size, luis_data)\n",
    "print(len(train_set))\n",
    "print(len(val_set))"
   ]
  },
  {
   "attachments": {},
   "cell_type": "markdown",
   "metadata": {},
   "source": [
    "### Upload train utterances"
   ]
  },
  {
   "cell_type": "code",
   "execution_count": 27,
   "metadata": {},
   "outputs": [
    {
     "name": "stdout",
     "output_type": "stream",
     "text": [
      "batch: 0-99\n",
      "batch: 100-199\n",
      "batch: 200-299\n",
      "batch: 300-399\n",
      "batch: 400-499\n",
      "batch: 500-599\n",
      "batch: 600-699\n",
      "batch: 700-799\n",
      "batch: 800-899\n",
      "batch: 900-999\n",
      "batch: 1000-1099\n",
      "batch: 1100-1199\n",
      "batch: 1200-1299\n",
      "batch: 1300-1399\n",
      "batch: 1400-1499\n",
      "batch: 1500-1599\n",
      "batch: 1600-1699\n",
      "batch: 1700-1799\n",
      "batch: 1800-1899\n",
      "batch: 1900-1999\n",
      "batch: 2000-2099\n",
      "batch: 2100-2199\n",
      "batch: 2200-2299\n",
      "batch: 2300-2399\n",
      "batch: 2400-2499\n",
      "batch: 2500-2599\n",
      "batch: 2600-2699\n",
      "batch: 2700-2799\n",
      "batch: 2800-2899\n",
      "batch: 2900-2999\n",
      "batch: 3000-3099\n",
      "batch: 3100-3199\n",
      "batch: 3200-3299\n",
      "batch: 3300-3399\n",
      "batch: 3400-3499\n",
      "batch: 3500-3599\n",
      "batch: 3600-3634\n",
      "\n",
      "3635 example utterances added.\n"
     ]
    }
   ],
   "source": [
    "# upload all luis_data by batch of 100\n",
    "batch_size = 100\n",
    "\n",
    "for i in range(0, len(train_set), batch_size):\n",
    "    j = i + batch_size\n",
    "    if j > len(train_set):\n",
    "        j = len(train_set)\n",
    "\n",
    "    auth_client.examples.batch(\n",
    "        app_id, \n",
    "        version_id, \n",
    "        train_set[i:j], \n",
    "        {'enableNestedChildren':True}\n",
    "    )\n",
    "\n",
    "    time.sleep(sleep_time)\n",
    "\n",
    "    print(f'batch: {i}-{j-1}')\n",
    "print(f'\\n{j} example utterances added.')"
   ]
  },
  {
   "attachments": {},
   "cell_type": "markdown",
   "metadata": {},
   "source": [
    "## Train model with utterances"
   ]
  },
  {
   "cell_type": "code",
   "execution_count": 28,
   "metadata": {},
   "outputs": [
    {
     "name": "stdout",
     "output_type": "stream",
     "text": [
      "LUIS trained.\n"
     ]
    }
   ],
   "source": [
    "async_training = auth_client.train.train_version(app_id, version_id)\n",
    "is_trained = async_training.status == 'UpToDate'\n",
    "\n",
    "trained_status = ['UpToDate', 'Success']\n",
    "while not is_trained:\n",
    "    time.sleep(5)\n",
    "    status = auth_client.train.get_status(app_id, version_id)\n",
    "    is_trained = all(m.details.status in trained_status for m in status)\n",
    "print('LUIS trained.')\n",
    "\n",
    "time.sleep(sleep_time)"
   ]
  },
  {
   "attachments": {},
   "cell_type": "markdown",
   "metadata": {},
   "source": [
    "## Publish model on staging slot"
   ]
  },
  {
   "cell_type": "code",
   "execution_count": 29,
   "metadata": {},
   "outputs": [],
   "source": [
    "# publish on staging slot\n",
    "publish_result = auth_client.apps.publish(\n",
    "    app_id, \n",
    "    version_id, \n",
    "    is_staging=True\n",
    ")\n",
    "\n",
    "time.sleep(sleep_time)"
   ]
  },
  {
   "attachments": {},
   "cell_type": "markdown",
   "metadata": {},
   "source": [
    "### #TODO validation set"
   ]
  },
  {
   "cell_type": "code",
   "execution_count": null,
   "metadata": {},
   "outputs": [],
   "source": []
  },
  {
   "attachments": {},
   "cell_type": "markdown",
   "metadata": {},
   "source": [
    "### #TODO Production setup"
   ]
  },
  {
   "cell_type": "code",
   "execution_count": null,
   "metadata": {},
   "outputs": [],
   "source": []
  },
  {
   "attachments": {},
   "cell_type": "markdown",
   "metadata": {},
   "source": [
    "### #TODO Production test"
   ]
  },
  {
   "cell_type": "code",
   "execution_count": null,
   "metadata": {},
   "outputs": [],
   "source": []
  }
 ],
 "metadata": {
  "kernelspec": {
   "display_name": "env_oc_10",
   "language": "python",
   "name": "python3"
  },
  "language_info": {
   "codemirror_mode": {
    "name": "ipython",
    "version": 3
   },
   "file_extension": ".py",
   "mimetype": "text/x-python",
   "name": "python",
   "nbconvert_exporter": "python",
   "pygments_lexer": "ipython3",
   "version": "3.8.2"
  },
  "orig_nbformat": 4,
  "vscode": {
   "interpreter": {
    "hash": "4635cdb6fb9ab265a58c1a497a2886daac19a15b70c7bf1545f5f16b570ce8e9"
   }
  }
 },
 "nbformat": 4,
 "nbformat_minor": 2
}
